{
 "cells": [
  {
   "cell_type": "markdown",
   "id": "ed08c801-1a7c-4011-a414-667abfb1e132",
   "metadata": {},
   "source": [
    "## Notebook to show load of pdf to KDB.AI Vector DB "
   ]
  },
  {
   "cell_type": "markdown",
   "id": "9bbc4880-8fae-482a-83ca-0e489f9b638b",
   "metadata": {
    "jp-MarkdownHeadingCollapsed": true
   },
   "source": [
    "### Imports"
   ]
  },
  {
   "cell_type": "code",
   "execution_count": 3,
   "id": "8b9e7634-b506-4fdb-87b1-7dd85a71662a",
   "metadata": {},
   "outputs": [],
   "source": [
    "import os\n",
    "import pypdf\n",
    "from nltk.tokenize import sent_tokenize\n",
    "import numpy as np\n",
    "import pandas as pd\n",
    "from sentence_transformers import SentenceTransformer\n",
    "import kdbai_client as kdbai\n",
    "from getpass import getpass\n",
    "import glob"
   ]
  },
  {
   "cell_type": "markdown",
   "id": "eaf91363-c204-4be1-9be9-ed56f629e60d",
   "metadata": {},
   "source": [
    "### Load pdf files, tokenize into separate sentences"
   ]
  },
  {
   "cell_type": "code",
   "execution_count": 4,
   "id": "4e4b6066-5360-4a9d-bb2f-f5deac05c20b",
   "metadata": {},
   "outputs": [
    {
     "data": {
      "text/plain": [
       "15"
      ]
     },
     "execution_count": 4,
     "metadata": {},
     "output_type": "execute_result"
    }
   ],
   "source": [
    "pdf_files = glob.glob(\"../Documents/pwc_*.pdf\")\n",
    "all_pdf_texts = []\n",
    "# Loop through the list of files and open each one\n",
    "for pdf_file in pdf_files:\n",
    "    with open(pdf_file, \"rb\") as file:\n",
    "        pdf_reader = pypdf.PdfReader(file)\n",
    "        pdf_pages = pdf_reader.pages\n",
    "        page_list = [page.extract_text() for page in pdf_pages]\n",
    "        full_pdf_text = \"\".join(page_list)\n",
    "        all_pdf_texts.append(full_pdf_text)\n",
    "# Join all texts from all PDFs into one single text\n",
    "combined_pdf_text = \"\".join(all_pdf_texts)\n",
    "# Tokenize the combined text into sentences\n",
    "ai_sentences = sent_tokenize(combined_pdf_text)\n",
    "# Get the number of sentences\n",
    "len(ai_sentences)"
   ]
  },
  {
   "cell_type": "code",
   "execution_count": 5,
   "id": "c6990dfa-816a-4233-8a8f-336718311606",
   "metadata": {},
   "outputs": [
    {
     "data": {
      "text/plain": [
       "['ft.comPwC India boss pleads case for seat atﬁrm’s global top tableSimon Foy, Stephen Foley4–5 λεπτάPwC’s India boss is lobbying for a seat on the Big Four ﬁrm’s globalexecutive committee alongside his counterpart in China, arguingthat the fast growth of its business and the rising importance of theIndian economy merit a position at the $53bn network’s top table.Sanjeev Krishan, chair of PwC India, in recent months petitionedsenior ﬁgures for him to be added to the ﬁrm’s inﬂuential networkleadership team, people familiar with the matter told the FinancialTimes.The move has caused ructions within the accounting and consultingﬁrm, with one senior ﬁgure familiar with the discussions saying thatwhile the issue has not yet risen to the level of “tensions”, it isregarded by some within the network as a “problem”.One partner said Krishan had been “pushing very hard” for a seatwhile another, who has held global and national leadership roles atthe ﬁrm, said it was “highly unlikely” that the Indian business wouldbe given a place on the committee.Like the rest of the Big Four ﬁrms — Deloitte, EY and KPMG —PwC is run as a worldwide network of partnerships linked through aglobal entity.',\n",
       " 'The ﬁrm’s network leadership team sets overallstrategy and standards for its 151-country network.The network leadership team currently consists of the ﬁrm’s globalchair, the leaders of its US, UK, and Asia-Paciﬁc/China businesses,as well as its Europe boss, who holds a seat that can be rotated atthe behest of PwC’s global board.PwC India boss pleads case for seat at ﬁrm’s global top tableabout:reader?url=https%3A%2F%2Fwww.ft.com%2Fcontent%2F82a9...\\n1 από 316/6/24, 3:37 μ.μ.“The size and composition of PwC’s network leadership team isdetermined by the regulations that govern the network and byPwC’s global governance board,” said a PwC Internationalspokesperson.',\n",
       " '“There are no current plans to add any additionalmembers to the network leadership team.”The Indian ﬁrm’s lobbying underlines the sometimes contentiouspolitical manoeuvring that occurs within the Big Four’s sprawlingglobal networks and marks an early test for Mohamed Kande, theﬁrm’s incoming global chair.It also comes as PwC’s China business faces a crisis over its auditsof collapsed property developer Evergrande.',\n",
       " 'One of the seniorpartners said: “India is very punchy at the moment because ofwhat’s going on with China.”Demand for professional services in India has increased rapidly inrecent years on the back of Prime Minister Narendra Modi’seconomic drive and the professionalisation of the country’seconomy.The Indian ﬁrm was the fastest-growing of PwC’s 21 largestbusinesses in the network last year, with revenues jumping bynearly a quarter.',\n",
       " 'That performance propped up PwC’s overall Asia-Paciﬁc revenue growth, which at 7 per cent was slower than theother major regions, dragged down by China.',\n",
       " 'The Indian ﬁrmexpects to surpass $1bn in sales for the ﬁrst time this ﬁnancial year.One person familiar with the Indian ﬁrm said it was well positionedto continue to grow at a fast pace because of the country’sexpanding economy and its young, growing population.',\n",
       " 'PwC’sChina boss was added to the ﬁrm’s network leadership team in2008 because it was then seen as the region with the greatestgrowth potential, according to one senior partner.',\n",
       " 'However, the Indian business remains small compared with someof those in other regions.“If you look at their numbers, the domestic [Indian business] isgrowing great, but from a very low base,” said the partner who hasheld global and national leadership roles.',\n",
       " '“To put them on thePwC India boss pleads case for seat at ﬁrm’s global top tableabout:reader?url=https%3A%2F%2Fwww.ft.com%2Fcontent%2F82a9...\\n2 από 316/6/24, 3:37 μ.μ.network leadership team, you would also have to put Canada,France and the Middle East.',\n",
       " 'Suddenly the network leadership teamhas 10 countries.',\n",
       " 'That would not be workable.”PwC’s network leadership team, which met 25 times last year, isalready set to be overhauled at the start of next month, whenKande, Marco Amitrano and Daniel Li take up their positions asrespective heads of PwC global, UK and Asia-Paciﬁc.',\n",
       " 'Paul Griggs,the ﬁrm’s new US boss, joined the committee at the beginning ofJune.PwC India boss pleads case for seat at ﬁrm’s global top tableabout:reader?url=https%3A%2F%2Fwww.ft.com%2Fcontent%2F82a9...\\n3 από 316/6/24, 3:37 μ.μ.ft.comPwC picks consultant Marco Amitranoas next UK senior partnerSimon Foy3–4 λεπτάPwC’s partners have elected consultant Marco Amitrano to leadone of Britain’s largest professional services ﬁrms, after a three-way race that included female candidates on the shortlist for theﬁrst time.The ﬁrm on Thursday said Amitrano would become PwC’s next UKsenior partner after triumphing in a partner vote against audit bossHemione Hudson and tax leader Laura Hinton.Amitrano, an Italian-born PwC lifer who currently serves as theﬁrm’s head of clients and markets, will take over from outgoingboss Kevin Ellis on July 1.“The partners have made the right choice in the leader for PwC’snext chapter,” Ellis said.Amitrano told the Financial Times his three priorities would be tofocus on technology, clients and PwC’s global network, adding: “Weare in a changing world and we are in a profession that has toadapt very quickly.”The succession comes at a turbulent time for the professionalservices sector.',\n",
       " 'Like its rivals, PwC cut hundreds of jobs at the endof last year and also delayed graduate promotions in recent monthsamid a slowdown in the consulting market.PwC’s UK ﬁrm, which encompasses its Middle East operations,generated £5.8bn in revenues last year.',\n",
       " 'It employs about 35,000people across both regions.PwC picks consultant Marco Amitrano as next UK senior partnerabout:reader?url=https%3A%2F%2Fwww.ft.com%2Fcontent%2F0c86...\\n1 από 216/6/24, 3:36 μ.μ.The Middle East business, which brought in sales of £1.6bn in2023, was seen as a key constituency in the leadership race, as itwas home to more than a quarter of the roughly 1,400 partners whocould vote and has grown rapidly in recent years.Amitrano will take the helm of PwC’s UK and Middle East businessat the same time as the ﬁrm installs new US and global bosses.Last week, the FT reported PwC’s incoming US chief Paul Griggswas planning to reverse a controversial restructuring of its taxpractice, dismantling the business model brought in by the ﬁrm’scurrent senior partner.Amitrano said he intended to maintain PwC’s current structure inthe UK, but added he would “look at a number of aspects of ourbusiness”, including how the ﬁrm’s artiﬁcial intelligence capabilitiesare organised and how it can “better align ourselves for our clients”.He said he “100 per cent” agrees with PwC’s “multidisciplinarymodel” of maintaining its audit and advisory arms under one roof,after rival EY abandoned its attempt to spin off its consultingdivision last year.While PwC has adopted AI tools in parts of its business, includingwithin its tax and deals teams, Amitrano said the ﬁrm was “still inthe relative foothills on generative AI”.“It has all kinds of opportunities for us and our people but,inevitably, it’s something that people will feel threatened by as well,”he added.',\n",
       " '“My job as senior partner is going to be to make surethat that assessment has a thorough approach to it, and that weunderstand all the implications.”PwC picks consultant Marco Amitrano as next UK senior partnerabout:reader?url=https%3A%2F%2Fwww.ft.com%2Fcontent%2F0c86...\\n2 από 216/6/24, 3:36 μ.μ.']"
      ]
     },
     "execution_count": 5,
     "metadata": {},
     "output_type": "execute_result"
    }
   ],
   "source": [
    "ai_sentences"
   ]
  },
  {
   "cell_type": "markdown",
   "id": "a89f1320-1e61-4f1f-a549-c6e9914d2e17",
   "metadata": {},
   "source": [
    "### Load model for embedding and apply it on the sentences "
   ]
  },
  {
   "cell_type": "code",
   "execution_count": 6,
   "id": "8add6634-0709-4b3d-a863-6ab46b198a6f",
   "metadata": {},
   "outputs": [],
   "source": [
    "model = SentenceTransformer(\"all-MiniLM-L6-v2\")"
   ]
  },
  {
   "cell_type": "code",
   "execution_count": 7,
   "id": "588c8db7-c8c9-4dbc-ac95-167642c32340",
   "metadata": {},
   "outputs": [],
   "source": [
    "embeddings_list = model.encode(np.array(ai_sentences)).tolist()\n",
    "embeddings_df = pd.DataFrame({\"vectors\": embeddings_list, \"sentences\": ai_sentences})"
   ]
  },
  {
   "cell_type": "markdown",
   "id": "3bcd14dc-f3ae-4859-8e38-d0262c3cc892",
   "metadata": {},
   "source": [
    "### Connect to KDB.AI cloud edition and init session"
   ]
  },
  {
   "cell_type": "code",
   "execution_count": 8,
   "id": "7031c094-1717-4847-bf84-0422baec2e3f",
   "metadata": {},
   "outputs": [
    {
     "name": "stdin",
     "output_type": "stream",
     "text": [
      "KDB.AI endpoint:  ········\n",
      "KDB.AI API key:  ········\n"
     ]
    }
   ],
   "source": [
    "KDBAI_ENDPOINT = (\n",
    "    os.environ[\"KDBAI_ENDPOINT\"]\n",
    "    if \"KDBAI_ENDPOINT\" in os.environ\n",
    "    else getpass(\"KDB.AI endpoint: \")\n",
    ")\n",
    "KDBAI_API_KEY = (\n",
    "    os.environ[\"KDBAI_API_KEY\"]\n",
    "    if \"KDBAI_API_KEY\" in os.environ\n",
    "    else getpass(\"KDB.AI API key: \")\n",
    ")"
   ]
  },
  {
   "cell_type": "code",
   "execution_count": 9,
   "id": "9dd00c8a-c936-4026-99e1-5319a036312c",
   "metadata": {},
   "outputs": [],
   "source": [
    "session = kdbai.Session(api_key=KDBAI_API_KEY, endpoint=KDBAI_ENDPOINT)"
   ]
  },
  {
   "cell_type": "markdown",
   "id": "508b60d8-003c-485f-942f-7d698a62c7ee",
   "metadata": {
    "jp-MarkdownHeadingCollapsed": true
   },
   "source": [
    "### Create schema for the table to create and the table itself"
   ]
  },
  {
   "cell_type": "markdown",
   "id": "66676e7d-5c5b-4196-8d2f-aa9fd68b61a9",
   "metadata": {},
   "source": [
    "#### Note dims (number of dimensions), type of index and metric L2 which is Euclidean distance"
   ]
  },
  {
   "cell_type": "code",
   "execution_count": 10,
   "id": "c3577c73-9458-4d61-8c1b-37bb7c11606c",
   "metadata": {},
   "outputs": [],
   "source": [
    "pwc_schema = {\n",
    "    \"columns\": [\n",
    "        {\"name\": \"sentences\", \"pytype\": \"str\"},\n",
    "        {\n",
    "            \"name\": \"vectors\",\n",
    "            \"vectorIndex\": {\"dims\": 384, \"metric\": \"L2\", \"type\": \"hnsw\"},\n",
    "        },\n",
    "    ]\n",
    "}"
   ]
  },
  {
   "cell_type": "code",
   "execution_count": 11,
   "id": "7cfe1dff-ab0f-4a5d-a0e3-61545b5c6461",
   "metadata": {},
   "outputs": [],
   "source": [
    "try:\n",
    "    session.table(\"pwc_pdf\").drop()\n",
    "    time.sleep(5)\n",
    "except kdbai.KDBAIException:\n",
    "    pass"
   ]
  },
  {
   "cell_type": "code",
   "execution_count": 12,
   "id": "926afa76-d1b8-48a3-a425-a86f3fd6dc83",
   "metadata": {},
   "outputs": [],
   "source": [
    "table = session.create_table(\"pwc_pdf\", pwc_schema)"
   ]
  },
  {
   "cell_type": "code",
   "execution_count": 13,
   "id": "4bb34c6a-d840-4d34-aecc-f29e9fd60703",
   "metadata": {},
   "outputs": [
    {
     "data": {
      "text/html": [
       "<div>\n",
       "<style scoped>\n",
       "    .dataframe tbody tr th:only-of-type {\n",
       "        vertical-align: middle;\n",
       "    }\n",
       "\n",
       "    .dataframe tbody tr th {\n",
       "        vertical-align: top;\n",
       "    }\n",
       "\n",
       "    .dataframe thead th {\n",
       "        text-align: right;\n",
       "    }\n",
       "</style>\n",
       "<table border=\"1\" class=\"dataframe\">\n",
       "  <thead>\n",
       "    <tr style=\"text-align: right;\">\n",
       "      <th></th>\n",
       "      <th>sentences</th>\n",
       "      <th>vectors</th>\n",
       "    </tr>\n",
       "  </thead>\n",
       "  <tbody>\n",
       "  </tbody>\n",
       "</table>\n",
       "</div>"
      ],
      "text/plain": [
       "Empty DataFrame\n",
       "Columns: [sentences, vectors]\n",
       "Index: []"
      ]
     },
     "execution_count": 13,
     "metadata": {},
     "output_type": "execute_result"
    }
   ],
   "source": [
    "table.query()"
   ]
  },
  {
   "cell_type": "markdown",
   "id": "dfffc303-5805-43e8-a778-efcc15474dc9",
   "metadata": {},
   "source": [
    "### Insert embedded data to table"
   ]
  },
  {
   "cell_type": "code",
   "execution_count": 14,
   "id": "d5caba0b-3260-43bd-a865-ea8eca4addb5",
   "metadata": {},
   "outputs": [
    {
     "data": {
      "text/plain": [
       "True"
      ]
     },
     "execution_count": 14,
     "metadata": {},
     "output_type": "execute_result"
    }
   ],
   "source": [
    "table.insert(embeddings_df)"
   ]
  },
  {
   "cell_type": "code",
   "execution_count": 16,
   "id": "171be70d-c0a1-474e-98de-471e8faf6450",
   "metadata": {},
   "outputs": [
    {
     "data": {
      "text/html": [
       "<div>\n",
       "<style scoped>\n",
       "    .dataframe tbody tr th:only-of-type {\n",
       "        vertical-align: middle;\n",
       "    }\n",
       "\n",
       "    .dataframe tbody tr th {\n",
       "        vertical-align: top;\n",
       "    }\n",
       "\n",
       "    .dataframe thead th {\n",
       "        text-align: right;\n",
       "    }\n",
       "</style>\n",
       "<table border=\"1\" class=\"dataframe\">\n",
       "  <thead>\n",
       "    <tr style=\"text-align: right;\">\n",
       "      <th></th>\n",
       "      <th>sentences</th>\n",
       "      <th>vectors</th>\n",
       "    </tr>\n",
       "  </thead>\n",
       "  <tbody>\n",
       "    <tr>\n",
       "      <th>0</th>\n",
       "      <td>ft.comPwC India boss pleads case for seat atﬁr...</td>\n",
       "      <td>[-0.03110901080071926, -0.06976129859685898, -...</td>\n",
       "    </tr>\n",
       "    <tr>\n",
       "      <th>1</th>\n",
       "      <td>The ﬁrm’s network leadership team sets overall...</td>\n",
       "      <td>[-0.012049359269440174, -0.0012233656598255038...</td>\n",
       "    </tr>\n",
       "    <tr>\n",
       "      <th>2</th>\n",
       "      <td>“There are no current plans to add any additio...</td>\n",
       "      <td>[-0.003842049278318882, -0.032716259360313416,...</td>\n",
       "    </tr>\n",
       "    <tr>\n",
       "      <th>3</th>\n",
       "      <td>One of the seniorpartners said: “India is very...</td>\n",
       "      <td>[-0.03188921883702278, -0.055128637701272964, ...</td>\n",
       "    </tr>\n",
       "    <tr>\n",
       "      <th>4</th>\n",
       "      <td>That performance propped up PwC’s overall Asia...</td>\n",
       "      <td>[-0.041160259395837784, 0.03492829203605652, 0...</td>\n",
       "    </tr>\n",
       "    <tr>\n",
       "      <th>5</th>\n",
       "      <td>The Indian ﬁrmexpects to surpass $1bn in sales...</td>\n",
       "      <td>[-0.014143252745270729, 0.03203411027789116, -...</td>\n",
       "    </tr>\n",
       "    <tr>\n",
       "      <th>6</th>\n",
       "      <td>PwC’sChina boss was added to the ﬁrm’s network...</td>\n",
       "      <td>[-0.060793209820985794, 0.002126440405845642, ...</td>\n",
       "    </tr>\n",
       "    <tr>\n",
       "      <th>7</th>\n",
       "      <td>However, the Indian business remains small com...</td>\n",
       "      <td>[0.09558597952127457, 0.0015580591280013323, -...</td>\n",
       "    </tr>\n",
       "    <tr>\n",
       "      <th>8</th>\n",
       "      <td>“To put them on thePwC India boss pleads case ...</td>\n",
       "      <td>[-0.024587363004684448, -0.023464664816856384,...</td>\n",
       "    </tr>\n",
       "    <tr>\n",
       "      <th>9</th>\n",
       "      <td>Suddenly the network leadership teamhas 10 cou...</td>\n",
       "      <td>[0.008721278049051762, -0.04857706278562546, 0...</td>\n",
       "    </tr>\n",
       "    <tr>\n",
       "      <th>10</th>\n",
       "      <td>That would not be workable.”PwC’s network lead...</td>\n",
       "      <td>[-0.12390515953302383, -0.014024380594491959, ...</td>\n",
       "    </tr>\n",
       "    <tr>\n",
       "      <th>11</th>\n",
       "      <td>Paul Griggs,the ﬁrm’s new US boss, joined the ...</td>\n",
       "      <td>[-0.09059364348649979, -0.02957308292388916, -...</td>\n",
       "    </tr>\n",
       "    <tr>\n",
       "      <th>12</th>\n",
       "      <td>Like its rivals, PwC cut hundreds of jobs at t...</td>\n",
       "      <td>[-0.037000346928834915, -0.03469547629356384, ...</td>\n",
       "    </tr>\n",
       "    <tr>\n",
       "      <th>13</th>\n",
       "      <td>It employs about 35,000people across both regi...</td>\n",
       "      <td>[0.004131243098527193, -0.04268932342529297, 0...</td>\n",
       "    </tr>\n",
       "    <tr>\n",
       "      <th>14</th>\n",
       "      <td>“My job as senior partner is going to be to ma...</td>\n",
       "      <td>[-0.06533829122781754, 0.057388823479413986, -...</td>\n",
       "    </tr>\n",
       "  </tbody>\n",
       "</table>\n",
       "</div>"
      ],
      "text/plain": [
       "                                            sentences  \\\n",
       "0   ft.comPwC India boss pleads case for seat atﬁr...   \n",
       "1   The ﬁrm’s network leadership team sets overall...   \n",
       "2   “There are no current plans to add any additio...   \n",
       "3   One of the seniorpartners said: “India is very...   \n",
       "4   That performance propped up PwC’s overall Asia...   \n",
       "5   The Indian ﬁrmexpects to surpass $1bn in sales...   \n",
       "6   PwC’sChina boss was added to the ﬁrm’s network...   \n",
       "7   However, the Indian business remains small com...   \n",
       "8   “To put them on thePwC India boss pleads case ...   \n",
       "9   Suddenly the network leadership teamhas 10 cou...   \n",
       "10  That would not be workable.”PwC’s network lead...   \n",
       "11  Paul Griggs,the ﬁrm’s new US boss, joined the ...   \n",
       "12  Like its rivals, PwC cut hundreds of jobs at t...   \n",
       "13  It employs about 35,000people across both regi...   \n",
       "14  “My job as senior partner is going to be to ma...   \n",
       "\n",
       "                                              vectors  \n",
       "0   [-0.03110901080071926, -0.06976129859685898, -...  \n",
       "1   [-0.012049359269440174, -0.0012233656598255038...  \n",
       "2   [-0.003842049278318882, -0.032716259360313416,...  \n",
       "3   [-0.03188921883702278, -0.055128637701272964, ...  \n",
       "4   [-0.041160259395837784, 0.03492829203605652, 0...  \n",
       "5   [-0.014143252745270729, 0.03203411027789116, -...  \n",
       "6   [-0.060793209820985794, 0.002126440405845642, ...  \n",
       "7   [0.09558597952127457, 0.0015580591280013323, -...  \n",
       "8   [-0.024587363004684448, -0.023464664816856384,...  \n",
       "9   [0.008721278049051762, -0.04857706278562546, 0...  \n",
       "10  [-0.12390515953302383, -0.014024380594491959, ...  \n",
       "11  [-0.09059364348649979, -0.02957308292388916, -...  \n",
       "12  [-0.037000346928834915, -0.03469547629356384, ...  \n",
       "13  [0.004131243098527193, -0.04268932342529297, 0...  \n",
       "14  [-0.06533829122781754, 0.057388823479413986, -...  "
      ]
     },
     "execution_count": 16,
     "metadata": {},
     "output_type": "execute_result"
    }
   ],
   "source": [
    "table.query()"
   ]
  },
  {
   "cell_type": "markdown",
   "id": "be4e4871-ecf0-4784-bd35-1eaf06ad4d0b",
   "metadata": {},
   "source": [
    "#### Run a similarity search based on a query and the embedded data"
   ]
  },
  {
   "cell_type": "code",
   "execution_count": 18,
   "id": "f8947ef6-30b6-46b8-81f0-3cf007bff79b",
   "metadata": {},
   "outputs": [
    {
     "data": {
      "text/plain": [
       "'That would not be workable.”PwC’s network leadership team, which met 25 times last year, isalready set to be overhauled at the start of next month, whenKande, Marco Amitrano and Daniel Li take up their positions asrespective heads of PwC global, UK and Asia-Paciﬁc.'"
      ]
     },
     "execution_count": 18,
     "metadata": {},
     "output_type": "execute_result"
    }
   ],
   "source": [
    "query=\"New boss of PwC?\"\n",
    "encoded_query = model.encode(query).tolist()\n",
    "results = table.search([encoded_query], n=1)  # Get top 1 result\n",
    "df = pd.DataFrame(results[0])\n",
    "top_sentence = df.loc[0, 'sentences']\n",
    "str(top_sentence)"
   ]
  },
  {
   "cell_type": "code",
   "execution_count": null,
   "id": "1b3d4b29-491d-458b-abfb-6e7c8b196181",
   "metadata": {},
   "outputs": [],
   "source": []
  }
 ],
 "metadata": {
  "kernelspec": {
   "display_name": "Python 3 (ipykernel)",
   "language": "python",
   "name": "python3"
  },
  "language_info": {
   "codemirror_mode": {
    "name": "ipython",
    "version": 3
   },
   "file_extension": ".py",
   "mimetype": "text/x-python",
   "name": "python",
   "nbconvert_exporter": "python",
   "pygments_lexer": "ipython3",
   "version": "3.11.5"
  }
 },
 "nbformat": 4,
 "nbformat_minor": 5
}
